{
 "cells": [
  {
   "cell_type": "code",
   "execution_count": 25,
   "metadata": {},
   "outputs": [],
   "source": [
    "import csv\n",
    "#import pandas as pd"
   ]
  },
  {
   "cell_type": "code",
   "execution_count": 26,
   "metadata": {},
   "outputs": [],
   "source": [
    "# data = pd.read_csv('./chinastrike.csv')\n",
    "# print(data.head(5))\n",
    "# # LOCATION  CATEGORY  / ,"
   ]
  },
  {
   "cell_type": "code",
   "execution_count": 27,
   "metadata": {},
   "outputs": [],
   "source": [
    "# print(data['LOCATION'][2])\n",
    "# location = data['LOCATION'].str.split(\",\", n = 10, expand = True) \n",
    "# category = data['CATEGORY'].str.split(\",\", n = 10, expand = True) \n",
    "# print(location)"
   ]
  },
  {
   "cell_type": "code",
   "execution_count": 28,
   "metadata": {},
   "outputs": [],
   "source": [
    "# with open('chinastrikesorted.csv', 'w') as f: \n",
    "#      f.write(location+category+'\\n') "
   ]
  },
  {
   "cell_type": "code",
   "execution_count": 29,
   "metadata": {},
   "outputs": [
    {
     "name": "stdout",
     "output_type": "stream",
     "text": [
      "csv 中的欄位名稱，可以用 .fieldnames 取得如下:\n",
      "['#', 'FORM #', 'INCIDENT TITLE', 'INCIDENT DATE', 'LOCATION', 'CATEGORY', 'LATITUDE', 'LONGITUDE', 'APPROVED', 'VERIFIED']\n"
     ]
    }
   ],
   "source": [
    "row_list = [] # 這是我們用來暫存資料用的 list，處理好的資料會放在這裡\n",
    "\n",
    "with open('./chinastrike.csv') as csvfile:\n",
    "    reader = csv.DictReader(csvfile)\n",
    "    print(\"csv 中的欄位名稱，可以用 .fieldnames 取得如下:\")\n",
    "    print(reader.fieldnames)\n",
    "    \n",
    "    \n",
    "    # 接下來我們用 for loop 一行一行的處理：\n",
    "    ## 注意現在每一行 (變數 row) 都被存成一個 dictionary \n",
    "    for row in reader:\n",
    "        # print(type(row), \"<--- 應該會印出 dict (或類似的 datatype / class)\")\n",
    "        \n",
    "        # 我們要處理的就是 把每一個 category 裡面的字串，按照 \"/\" 和 \",\" 分割，變成一個 list。\n",
    "        #print(row['LOCATION'])                        # <------ 這個時候，會是一個 string   \n",
    "        \n",
    "        list_of_str_split_with_slash = row['LOCATION'].split(\"/\") # <------ 這是 list of string\n",
    "        \n",
    "        list_of_str_to_store_processed_location = []  # 這是我們要存放處理完的 location cells 裡面的 string 們\n",
    "        \n",
    "        for str_may_contain_comma in list_of_str_split_with_slash:\n",
    "            list_of_str_split_with_comma = str_may_contain_comma.split(',')\n",
    "            \n",
    "            for str_wo_slash_or_comma in list_of_str_split_with_comma:\n",
    "                list_of_str_to_store_processed_location += [str_wo_slash_or_comma]\n",
    "                \n",
    "        row['LOCATION'] = list_of_str_to_store_processed_location  # <------ 變成 list of string 了\n",
    "        \n",
    "        #---------------------------------------------------------------------------------------------\n",
    "        \n",
    "        # 我們要處理的就是 把每一個 category 裡面的字串，按照 \"/\" 和 \",\" 分割，變成一個 list。\n",
    "        #print(row['CATEGORY'])                        # <------ 這個時候，會是一個 string   \n",
    "        \n",
    "        list_of_str_split_with_slash = row['CATEGORY'].split(\"/\") # <------ 這是 list of string\n",
    "        \n",
    "        list_of_str_to_store_processed_category = []  # 這是我們要存放處理完的 location cells 裡面的 string 們\n",
    "        \n",
    "        for str_may_contain_comma in list_of_str_split_with_slash:\n",
    "            list_of_str_split_with_comma = str_may_contain_comma.split(',')\n",
    "            \n",
    "            for str_wo_slash_or_comma in list_of_str_split_with_comma:\n",
    "                list_of_str_to_store_processed_category += [str_wo_slash_or_comma]\n",
    "                \n",
    "        row['CATEGORY'] = list_of_str_to_store_processed_category  # <------ 變成 list of string 了\n",
    "        \n",
    "        \n",
    "        #---------------------------------------------------------------------------------------------\n",
    "        \n",
    "        # 處理完的 row 我們先暫存到我們的 list 裡面\n",
    "        row_list += [ row ]"
   ]
  },
  {
   "cell_type": "code",
   "execution_count": 30,
   "metadata": {},
   "outputs": [
    {
     "name": "stdout",
     "output_type": "stream",
     "text": [
      "看一下資料總共有幾筆： 1015\n"
     ]
    }
   ],
   "source": [
    "print(\"看一下資料總共有幾筆：\", len(row_list))"
   ]
  },
  {
   "cell_type": "code",
   "execution_count": 31,
   "metadata": {},
   "outputs": [
    {
     "name": "stdout",
     "output_type": "stream",
     "text": [
      "Location 最長有 8 個片段\n",
      "Category 最長有 21 個片段\n"
     ]
    }
   ],
   "source": [
    "# 現在要檢查 location 最長有多長和 category 最長有多長，因為我們要對齊每一行。\n",
    "# 比方說 每筆資料的 location 都有三個欄位，不足的就留空就好。\n",
    "\n",
    "# e.g.\n",
    "# 資料一： United Kindom,                ,  \n",
    "# 資料二： Taiwan       ,        Taichung, \n",
    "# 資料三： Taiwan       ,        Taichung,      FengYuan\n",
    "\n",
    "\n",
    "# 所以我們要取最大值，也就是要不刪減資訊的話，我們最少需要幾個欄位來存被分段的 location 或 category\n",
    "\n",
    "# max(a, b) 會回傳 a 和 b 兩者之間較大的那個。\n",
    "# max(100, 2) ---> 100\n",
    "\n",
    "max_length_of_location = 1\n",
    "for row in row_list:\n",
    "    max_length_of_location = max(max_length_of_location, len(row[\"LOCATION\"]))\n",
    "\n",
    "print(\"Location 最長有\", max_length_of_location,\"個片段\")\n",
    "\n",
    "max_length_of_category = 1\n",
    "for row in row_list:\n",
    "    max_length_of_category = max(max_length_of_category, len(row[\"CATEGORY\"]))\n",
    "    \n",
    "print(\"Category 最長有\", max_length_of_category,\"個片段\")"
   ]
  },
  {
   "cell_type": "code",
   "execution_count": 32,
   "metadata": {},
   "outputs": [
    {
     "name": "stdout",
     "output_type": "stream",
     "text": [
      "['#', 'FORM #', 'INCIDENT TITLE', 'INCIDENT DATE', 'LATITUDE', 'LONGITUDE', 'APPROVED', 'VERIFIED']\n",
      "['#', 'FORM #', 'INCIDENT TITLE', 'INCIDENT DATE', 'LATITUDE', 'LONGITUDE', 'APPROVED', 'VERIFIED', 'LOCATION_1', 'LOCATION_2', 'LOCATION_3', 'LOCATION_4', 'LOCATION_5', 'LOCATION_6', 'LOCATION_7', 'LOCATION_8', 'CATEGORY_1', 'CATEGORY_2', 'CATEGORY_3', 'CATEGORY_4', 'CATEGORY_5', 'CATEGORY_6', 'CATEGORY_7', 'CATEGORY_8', 'CATEGORY_9', 'CATEGORY_10', 'CATEGORY_11', 'CATEGORY_12', 'CATEGORY_13', 'CATEGORY_14', 'CATEGORY_15', 'CATEGORY_16', 'CATEGORY_17', 'CATEGORY_18', 'CATEGORY_19', 'CATEGORY_20', 'CATEGORY_21']\n"
     ]
    }
   ],
   "source": [
    "# 我跑出來的結果是：\n",
    "#Location 最長有 8 個片段\n",
    "#Category 最長有 21 個片段\n",
    "# 也就是 max_length_of_location = 8 然後 max_length_of_category = 21\n",
    "\n",
    "# 所以我們要給 location 8 個欄位 (location_1 ~ location_8)，不足 8 個的後面就留空\n",
    "# 所以我們要給 category 21 個欄位 (category_1 ~ category_21)，不足 21 個的後面就留空\n",
    "\n",
    "# 我們要建立自己的 csv 檔案\n",
    "# 首先要定義自己的欄位名稱\n",
    "# 當然，除了 location 和 category 外，其他的照舊。\n",
    "    \n",
    "\n",
    "unmodified_field_names = ['#', 'FORM #', 'INCIDENT TITLE', 'INCIDENT DATE', \n",
    "                          'LATITUDE', 'LONGITUDE', 'APPROVED', 'VERIFIED']  # 其他不受影響的欄位的名字\n",
    "print(unmodified_field_names)\n",
    "\n",
    "\n",
    "new_created_field_names = []\n",
    "# 我們要加上 location_1 ~ location_8\n",
    "for i in range(1, max_length_of_location + 1):\n",
    "    location_field_name_at_i = \"LOCATION_\" + str(i)\n",
    "    new_created_field_names += [location_field_name_at_i]\n",
    "\n",
    "# 我們要再加上 category_1 ~ category_21\n",
    "for i in range(1, max_length_of_category + 1):\n",
    "    category_field_name_at_i = \"CATEGORY_\" + str(i)\n",
    "    new_created_field_names += [category_field_name_at_i]\n",
    "    \n",
    "field_names = unmodified_field_names + new_created_field_names\n",
    "\n",
    "print(field_names)"
   ]
  },
  {
   "cell_type": "code",
   "execution_count": 33,
   "metadata": {},
   "outputs": [],
   "source": [
    "# csv 寫入檔案 請參考文件上面的操作\n",
    "\n",
    "# with open('eggs.csv', 'w') as csvfile:\n",
    "#     spamwriter = csv.writer(csvfile,\n",
    "#                             quotechar='|', quoting=csv.QUOTE_MINIMAL)\n",
    "#     spamwriter.writerow(['Spam'] * 5 + ['Baked Beans'])\n",
    "#     spamwriter.writerow(['Spam', 'Lovely Spam', 'Wonderful Spam'])"
   ]
  },
  {
   "cell_type": "code",
   "execution_count": 34,
   "metadata": {},
   "outputs": [],
   "source": [
    "# writerow 吃的是一個 list of string \n",
    "# 也就是你 excel / csv 裡面一行的 cells 的內容們"
   ]
  },
  {
   "cell_type": "code",
   "execution_count": 35,
   "metadata": {},
   "outputs": [],
   "source": [
    "with open('chinastrikesorted.csv', 'w') as csvfile:\n",
    "    csv_writer = csv.writer(csvfile)\n",
    "    # 我們先把欄位名字寫在第一行\n",
    "    csv_writer.writerow(field_names)\n",
    "    \n",
    "    \n",
    "    # 接下來一行一行地，把該行的資料 (list) 準備好，然後寫入。\n",
    "    # 提醒一下這邊的 row 是一個 dictionary ，這是我們在讀入的時候的格式。\n",
    "    for row in row_list:\n",
    "        cell_strs = [] # 這邊是要成為一個 list of string，也就是我們一行的內容\n",
    "        \n",
    "        # 對於沒有被變動到的欄位們，就直接把它重新加入我們的 list 裡面\n",
    "        for key in unmodified_field_names:\n",
    "            cell_strs += [row[key]]\n",
    "\n",
    "            \n",
    "        # location 要給到足夠的長度的內容\n",
    "        for i in range(max_length_of_location):\n",
    "            if i < len(row[\"LOCATION\"]):\n",
    "                cell_strs += [ row[\"LOCATION\"][i] ]\n",
    "            else:\n",
    "                # 不足的我們補上空白\n",
    "                cell_strs += [ \"\" ]\n",
    "            \n",
    "        # category 要給到足夠的長度的內容\n",
    "        for i in range(max_length_of_category):\n",
    "            if i < len(row[\"CATEGORY\"]):\n",
    "                cell_strs += [ row[\"CATEGORY\"][i] ]\n",
    "            else:\n",
    "                # 不足的我們補上空白\n",
    "                cell_strs += [ \"\" ]\n",
    "            \n",
    "        # 完成這一行，寫入檔案！\n",
    "        csv_writer.writerow(cell_strs)"
   ]
  },
  {
   "cell_type": "code",
   "execution_count": 36,
   "metadata": {},
   "outputs": [],
   "source": [
    "# voila! \n",
    "# If you have any question, feel free to let me know!"
   ]
  },
  {
   "cell_type": "code",
   "execution_count": null,
   "metadata": {},
   "outputs": [],
   "source": []
  },
  {
   "cell_type": "code",
   "execution_count": null,
   "metadata": {},
   "outputs": [],
   "source": []
  },
  {
   "cell_type": "code",
   "execution_count": null,
   "metadata": {},
   "outputs": [],
   "source": []
  },
  {
   "cell_type": "code",
   "execution_count": null,
   "metadata": {},
   "outputs": [],
   "source": []
  },
  {
   "cell_type": "code",
   "execution_count": null,
   "metadata": {},
   "outputs": [],
   "source": []
  },
  {
   "cell_type": "code",
   "execution_count": null,
   "metadata": {},
   "outputs": [],
   "source": []
  },
  {
   "cell_type": "code",
   "execution_count": null,
   "metadata": {},
   "outputs": [],
   "source": []
  },
  {
   "cell_type": "code",
   "execution_count": null,
   "metadata": {},
   "outputs": [],
   "source": []
  }
 ],
 "metadata": {
  "kernelspec": {
   "display_name": "Python 3",
   "language": "python",
   "name": "python3"
  },
  "language_info": {
   "codemirror_mode": {
    "name": "ipython",
    "version": 3
   },
   "file_extension": ".py",
   "mimetype": "text/x-python",
   "name": "python",
   "nbconvert_exporter": "python",
   "pygments_lexer": "ipython3",
   "version": "3.7.4"
  }
 },
 "nbformat": 4,
 "nbformat_minor": 2
}
